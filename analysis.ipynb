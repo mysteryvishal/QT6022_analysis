{
 "cells": [
  {
   "cell_type": "code",
   "execution_count": 526,
   "metadata": {},
   "outputs": [],
   "source": [
    "import pandas as pd\n",
    "import numpy as np\n",
    "import matplotlib.pyplot as plt\n",
    "import plotly.express as px\n",
    "import seaborn as sns\n",
    "import re\n",
    "\n",
    "# Load the data\n",
    "df_agri_pi = pd.read_csv('agricultural_price_indices.csv')"
   ]
  },
  {
   "cell_type": "markdown",
   "metadata": {},
   "source": [
    "## **Sorting Features**"
   ]
  },
  {
   "cell_type": "markdown",
   "metadata": {},
   "source": [
    "**Crop Production**\n",
    "- Cereals: Includes all types of wheat, barley, and oats.\n",
    "- Vegetables: Encompasses all fresh vegetables such as cauliflowers, cabbages, lettuce, carrots, onions, mushrooms, potatoes, tomatoes, and green beans.\n",
    "- Fruits: Covers all types of apples, pears, strawberries, and raspberries.\n",
    "- Industrial and Other Crops: Includes oilseed rape, sugar beet, industrial crops, forage plants, straw, and flowers.\n",
    "\n",
    "**Livestock and Animal Products**\n",
    "- Livestock: All categories related to cattle, pigs, sheep, lambs, and export animals.\n",
    "- Poultry: Chickens, turkeys, and other poultry.\n",
    "- Animal Products: Milk, eggs (intensive and free range), and wool.\n",
    "\n",
    "**Agricultural Inputs**\n",
    "- Seeds and Soil Treatments: Seeds, fertilizers, soil improvers, and plant protection products like fungicides, insecticides, and herbicides.\n",
    "- Energy and Feedingstuffs: Includes energy sources (electricity, fuels), lubricants, and all types of animal feed.\n",
    "\n",
    "**Agricultural Infrastructure and Maintenance**\n",
    "- Infrastructure: Buildings, machinery, transport equipment, and other physical infrastructure.\n",
    "- Maintenance Services: Includes the maintenance of materials and buildings."
   ]
  },
  {
   "cell_type": "code",
   "execution_count": 527,
   "metadata": {},
   "outputs": [],
   "source": [
    "# Crop Production\n",
    "cereals = [\"wheat\", \"barley\", \"oats\", 'wheat_breadmaking','wheat_other_milling','barley_malting','oats_milling']\n",
    "vegetables_and_fruits = [\n",
    "    'fresh_vegetables', 'fresh_fruit', \n",
    "    \"cauliflowers\", \"cabbages\", \"lettuce\", \"carrots\", \"onions\", \"mushrooms\",\n",
    "    \"potatoes\", \"strawberries\", \"tomatoes\", \"beans_green\", \"dessert_apples\",\n",
    "    \"cooking_apples\", \"dessert_pears\", \"raspberries\",\n",
    "]\n",
    "other_crops = [\n",
    "    \"industrial_crops\", \"forage_plants\", \"straw\", \"flowers_and_plants\",\n",
    "    \"oilseed_rape_non_set_aside\", \"sugar_beet\"\n",
    "]\n",
    "\n",
    "# Livestock and Products\n",
    "livestock = [\n",
    "    \"cattle_and_calves\", \"cattle_clean\", \"cows_and_bulls\", \"calves\", \"pigs\",\n",
    "    \"pigs_clean\", \"sows_and_boars\", \"sheep_and_lambs\", \"sheep_and_lambs_clean\",\n",
    "    \"ewes_and_rams\", \"chickens\", \"turkeys\"\n",
    "]\n",
    "products = [\n",
    "    \"milk\", \"eggs\", \"intensive_eggs\", \"free_range_eggs\", \"wool_clip\", 'other_crop_products','animals_for_slaughter_export'\n",
    "]\n",
    "\n",
    "# Agricultural Inputs\n",
    "inputs = [\n",
    "    \"seeds_input\", \"straight_fertilisers\", \"straight_fertilisers_nitrogenous\",\n",
    "    \"straight_fertilisers_phosphatic\", \"straight_fertilisers_potassic\",\n",
    "    \"compound_fertilisers\", \"electricity\", \"fuels_for_heating\", \"motor_fuels\",\n",
    "    \"animal_feedingstuffs\", \"straight_feedingstuffs\", \"cereal_and_milling_by_products\",\n",
    "    \"feed_wheat\", \"feed_barley\", \"feed_oats\", \"oilcakes\", \"soya_bean_meal\",\n",
    "    \n",
    "    \"sunflower_seed_meal\", \"rape_seed_meal\", \"products_of_animal_origin_incl_white_fish_meal\",\n",
    "    \"field_peas\", \"field_beans\", \"soya_beans\", \"compound_feedingstuffs\",\n",
    "    \"fungicides\", \"insecticides\", \"herbicides\", \"energy_and_lubricants\", \"veterinary_services\",\n",
    "    \n",
    "    'compound_feedingstuffs_for_cattle_and_calves','compound_feedingstuffs_for_pigs',\n",
    "    'compound_feedingstuffs_for_poultry','compound_feedingstuffs_for_sheep',\n",
    "    \n",
    "    'oats_feeding', 'barley_feeding', 'wheat_feeding',\n",
    "\n",
    "    'fertilisers_and_soil_improvers','other_fertilisers_and_soil_improvers','plant_protection_products',\n",
    "    'other_plant_protection_products','other_straights',\n",
    "]\n",
    "\n",
    "# Infrastructure and Services\n",
    "infrastructure = [\n",
    "    \"buildings\", \"machinery_and_other_equipment\", \"plant_and_machinery_for_cultivation\",\n",
    "    \"farm_machinery_and_installations\", \"transport_equipment\", \"tractors\", \"other_vehicles\"\n",
    "]\n",
    "maintenance = [\"maintenance_of_materials\", \"maintenance_of_buildings\", 'other_goods_and_services', 'materials']\n",
    "\n",
    "# Summary\n",
    "summary = [\n",
    "    'all_agricultural_outputs', 'all_agricultural_inputs', 'crop_products','animals_and_animal_products',\n",
    "    'all_goods_and_services_currently_consumed_in_agriculture','goods_and_services_contributing_to_investment',\n",
    "    'cereals','animal_products','all_poultry'\n",
    "]"
   ]
  },
  {
   "cell_type": "markdown",
   "metadata": {},
   "source": [
    "`'ringway'`, `'southampton'`, `'cwmystwyth'` removed as the station does not provide data between 2014 and 2024"
   ]
  },
  {
   "cell_type": "code",
   "execution_count": 528,
   "metadata": {},
   "outputs": [],
   "source": [
    "stations = [\n",
    "    'aberporth','armagh','ballypatrick_forest','bradford','braemar','camborne','cambridge_niab','cardiff_bute_park',\n",
    "    'chivenor','dunstaffnage','durham','eastbourne','eskdalemuir','heathrow','hurn','lerwick',\n",
    "    'leuchars','lowestoft','manston','nairn','newton_rigg','oxford','paisley','ross_on_wye',\n",
    "    'shawbury','sheffield','stornoway','sutton_bonington','tiree','valley','waddington',\n",
    "    'whitby_coastguard','wick_airport','yeovilton'\n",
    "]"
   ]
  },
  {
   "cell_type": "markdown",
   "metadata": {},
   "source": [
    "## **Cleaning Data**"
   ]
  },
  {
   "cell_type": "code",
   "execution_count": 529,
   "metadata": {},
   "outputs": [],
   "source": [
    "# removing non-numeric characters from the data\n",
    "def clean_data(df):\n",
    "    for column in df.columns:\n",
    "        df[column] = df[column].apply(lambda x: re.sub(r'[^0-9.]', '', str(x)))\n",
    "    return df\n",
    "\n",
    "# correcting the data types\n",
    "def set_types(df):\n",
    "    df['yyyy'] = pd.to_numeric(df['yyyy'])\n",
    "    df['mm'] = pd.to_numeric(df['mm'])\n",
    "    df['tmax(degC)'] = pd.to_numeric(df['tmax(degC)'])\n",
    "    df['tmin(degC)'] = pd.to_numeric(df['tmin(degC)'])\n",
    "    df['af(days)'] = pd.to_numeric(df['af(days)'])\n",
    "    df['rain(mm)'] = pd.to_numeric(df['rain(mm)'])\n",
    "    df['sun(hours)'] = pd.to_numeric(df['sun(hours)'])\n",
    "    return df"
   ]
  },
  {
   "cell_type": "code",
   "execution_count": 530,
   "metadata": {},
   "outputs": [],
   "source": [
    "# removing the day from the date to equal: `yyyy-mm`\n",
    "df_agri_pi['date'] = df_agri_pi['date'].apply(lambda x: x[:7])"
   ]
  },
  {
   "cell_type": "markdown",
   "metadata": {},
   "source": [
    "## **Aggregating Climate Data**"
   ]
  },
  {
   "cell_type": "code",
   "execution_count": 531,
   "metadata": {},
   "outputs": [],
   "source": [
    "import pandas as pd\n",
    "\n",
    "def process_excel_file(file_path):\n",
    "    # Read the Excel file\n",
    "    df = pd.read_excel(file_path)\n",
    "    \n",
    "    # Apply cleaning functions\n",
    "    df = clean_data(df)\n",
    "    df = set_types(df)\n",
    "    \n",
    "    # Fill NaN values with 0\n",
    "    df.fillna(0, inplace=True)\n",
    "\n",
    "    # Filter data from 2014 onwards\n",
    "    df = df[df['yyyy'] >= 2014]\n",
    "\n",
    "    # Add leading zeros to the month column\n",
    "    df['mm'] = df['mm'].astype(str).str.zfill(2)\n",
    "\n",
    "    # Add columns of respective years and months together\n",
    "    df['date'] = df['yyyy'].astype(str) +\"-\"+ df['mm'].astype(str)\n",
    "    df.drop(columns=['yyyy', 'mm'], inplace=True)\n",
    "    df.set_index('date', inplace=True)\n",
    "    \n",
    "    return df"
   ]
  },
  {
   "cell_type": "code",
   "execution_count": 532,
   "metadata": {},
   "outputs": [],
   "source": [
    "# creating mean of all stations\n",
    "sum = process_excel_file('weather/'+stations[0]+'.xlsx')\n",
    "for i in stations[1:]:\n",
    "    try:\n",
    "        sum = sum.add(process_excel_file('weather/'+i+'.xlsx'), fill_value=0)\n",
    "    except:\n",
    "        print(i)\n",
    "        continue\n",
    "df_stations = sum/len(stations)"
   ]
  },
  {
   "cell_type": "code",
   "execution_count": 533,
   "metadata": {},
   "outputs": [
    {
     "data": {
      "text/html": [
       "<div>\n",
       "<style scoped>\n",
       "    .dataframe tbody tr th:only-of-type {\n",
       "        vertical-align: middle;\n",
       "    }\n",
       "\n",
       "    .dataframe tbody tr th {\n",
       "        vertical-align: top;\n",
       "    }\n",
       "\n",
       "    .dataframe thead th {\n",
       "        text-align: right;\n",
       "    }\n",
       "</style>\n",
       "<table border=\"1\" class=\"dataframe\">\n",
       "  <thead>\n",
       "    <tr style=\"text-align: right;\">\n",
       "      <th></th>\n",
       "      <th>tmax(degC)</th>\n",
       "      <th>tmin(degC)</th>\n",
       "      <th>af(days)</th>\n",
       "      <th>rain(mm)</th>\n",
       "      <th>sun(hours)</th>\n",
       "    </tr>\n",
       "    <tr>\n",
       "      <th>date</th>\n",
       "      <th></th>\n",
       "      <th></th>\n",
       "      <th></th>\n",
       "      <th></th>\n",
       "      <th></th>\n",
       "    </tr>\n",
       "  </thead>\n",
       "  <tbody>\n",
       "    <tr>\n",
       "      <th>2014-01</th>\n",
       "      <td>8.179412</td>\n",
       "      <td>3.067647</td>\n",
       "      <td>3.852941</td>\n",
       "      <td>150.797059</td>\n",
       "      <td>32.873529</td>\n",
       "    </tr>\n",
       "    <tr>\n",
       "      <th>2014-02</th>\n",
       "      <td>8.658824</td>\n",
       "      <td>3.373529</td>\n",
       "      <td>1.647059</td>\n",
       "      <td>128.802941</td>\n",
       "      <td>55.305882</td>\n",
       "    </tr>\n",
       "    <tr>\n",
       "      <th>2014-03</th>\n",
       "      <td>11.108824</td>\n",
       "      <td>3.717647</td>\n",
       "      <td>3.235294</td>\n",
       "      <td>59.488235</td>\n",
       "      <td>92.844118</td>\n",
       "    </tr>\n",
       "    <tr>\n",
       "      <th>2014-04</th>\n",
       "      <td>13.497059</td>\n",
       "      <td>6.147059</td>\n",
       "      <td>0.970588</td>\n",
       "      <td>54.976471</td>\n",
       "      <td>105.585294</td>\n",
       "    </tr>\n",
       "    <tr>\n",
       "      <th>2014-05</th>\n",
       "      <td>15.461765</td>\n",
       "      <td>8.200000</td>\n",
       "      <td>0.411765</td>\n",
       "      <td>84.252941</td>\n",
       "      <td>110.400000</td>\n",
       "    </tr>\n",
       "  </tbody>\n",
       "</table>\n",
       "</div>"
      ],
      "text/plain": [
       "         tmax(degC)  tmin(degC)  af(days)    rain(mm)  sun(hours)\n",
       "date                                                             \n",
       "2014-01    8.179412    3.067647  3.852941  150.797059   32.873529\n",
       "2014-02    8.658824    3.373529  1.647059  128.802941   55.305882\n",
       "2014-03   11.108824    3.717647  3.235294   59.488235   92.844118\n",
       "2014-04   13.497059    6.147059  0.970588   54.976471  105.585294\n",
       "2014-05   15.461765    8.200000  0.411765   84.252941  110.400000"
      ]
     },
     "execution_count": 533,
     "metadata": {},
     "output_type": "execute_result"
    }
   ],
   "source": [
    "df_stations.head()"
   ]
  },
  {
   "cell_type": "markdown",
   "metadata": {},
   "source": [
    "## **Exploration**"
   ]
  },
  {
   "cell_type": "markdown",
   "metadata": {},
   "source": [
    "### **Using Simple Plots**"
   ]
  },
  {
   "cell_type": "code",
   "execution_count": 621,
   "metadata": {},
   "outputs": [
    {
     "data": {
      "application/vnd.plotly.v1+json": {
       "config": {
        "plotlyServerURL": "https://plot.ly"
       },
       "data": [
        {
         "hovertemplate": "Maximum Temperature (°C)=%{x}<br>all_agricultural_inputs=%{y}<extra></extra>",
         "legendgroup": "",
         "marker": {
          "color": "#636efa",
          "symbol": "circle"
         },
         "mode": "markers",
         "name": "",
         "orientation": "v",
         "showlegend": false,
         "type": "scatter",
         "x": [
          8.179411764705883,
          8.658823529411764,
          11.108823529411765,
          13.49705882352941,
          15.461764705882354,
          18.779411764705884,
          21.467647058823527,
          18.53235294117647,
          18.65294117647059,
          15.029411764705886,
          11.179411764705879,
          8.152941176470588,
          7.46470588235294,
          7.323529411764706,
          9.782352941176468,
          13.297058823529415,
          14.011764705882356,
          17.63529411764706,
          19.014705882352942,
          19.208823529411767,
          16.667647058823526,
          14.291176470588232,
          11.776470588235293,
          11.438235294117648,
          8.123529411764704,
          7.841176470588236,
          9.54411764705882,
          11.073529411764708,
          16.044117647058822,
          17.99705882352941,
          19.794117647058826,
          20.176470588235297,
          18.908823529411762,
          14.061764705882354,
          9.029411764705882,
          9.641176470588237,
          7.458823529411766,
          8.694117647058821,
          11.602941176470589,
          12.752941176470587,
          17.008823529411767,
          18.91470588235294,
          19.723529411764705,
          19.03823529411764,
          16.741176470588236,
          14.973529411764709,
          9.670588235294117,
          7.855882352941177,
          7.620588235294116,
          6.111764705882354,
          7.667647058823531,
          12.617647058823527,
          17.349999999999998,
          20.09117647058823,
          22.817647058823525,
          19.938235294117646,
          17.11470588235294,
          14.055882352941174,
          10.852941176470589,
          9.267647058823528,
          7.0205882352941185,
          10.729411764705883,
          10.823529411764708,
          13.341176470588236,
          15.04117647058824,
          17.767647058823528,
          21.161764705882348,
          20.561764705882347,
          17.826470588235296,
          13.073529411764707,
          8.844117647058823,
          8.717647058823529,
          9.03235294117647,
          8.870588235294116,
          10.011764705882351,
          14.605882352941174,
          17.10882352941176,
          18.60882352941176,
          18.93235294117647,
          20.326470588235296,
          17.78235294117647,
          13.188235294117645,
          11.470588235294116,
          7.80294117647059,
          5.84705882352941,
          7.782352941176471,
          10.47941176470588,
          11.258823529411764,
          13.791176470588237,
          19.020588235294117,
          21.235294117647058,
          19.314705882352943,
          19.22647058823529,
          14.75882352941176,
          10.711764705882354,
          8.667647058823531,
          8.461764705882352,
          9.476470588235296,
          11.605882352941178,
          13.055882352941175,
          16.394117647058827,
          18.988235294117647,
          21.78235294117647,
          22.158823529411766,
          18.01176470588235,
          15.655882352941175,
          11.776470588235291,
          6.829411764705885,
          8.097058823529409,
          9.700000000000001,
          9.600000000000001,
          12.338235294117643,
          16.45588235294118,
          21.28235294117647,
          19.379411764705885,
          19.700000000000003,
          19.96470588235294,
          14.811764705882352,
          10.24411764705882,
          9.211764705882356,
          7.429411764705883
         ],
         "xaxis": "x",
         "y": [
          94.48814398922268,
          95.87792122837654,
          95.92280694372518,
          96.15055027753388,
          95.39316506901534,
          95.22507084039351,
          94.73610240407884,
          93.813424574179,
          93.75797104275784,
          91.94036308930812,
          92.04246609257096,
          91.68734882018748,
          91.3948810396585,
          91.68372536722764,
          91.68093733337088,
          91.2272493171224,
          91.5198402550714,
          91.30228972152788,
          89.82794069533276,
          88.47195387357046,
          88.21773624185609,
          86.85311422549165,
          86.69640385481426,
          86.10382302582518,
          86.3458002295962,
          86.15629176926777,
          86.09248777859176,
          86.9039156823498,
          87.71201952661026,
          87.73945781624161,
          87.55681244941046,
          87.0143654266318,
          87.11401741136774,
          88.74149263186212,
          89.30749696725593,
          89.64314111465553,
          92.2953049304286,
          92.82135404419505,
          92.59535836791328,
          92.87078086024805,
          92.79023489784907,
          92.57313351151151,
          92.16507986520163,
          92.10470917418026,
          93.10031036249131,
          93.01571222647496,
          93.5641612348378,
          93.6794173566712,
          96.4668124226733,
          97.22105891523957,
          97.28751931917338,
          98.21998120901937,
          99.08252117983568,
          99.99973758301496,
          100.78395580638492,
          101.44097317739885,
          102.10083606952864,
          103.3519322056234,
          103.40314522299076,
          102.81612569520598,
          103.59397176704276,
          103.58343829448634,
          103.47109816935424,
          103.3989660157335,
          103.5721194503016,
          103.31580831105649,
          102.08376747959473,
          101.49414524010416,
          100.96811044568322,
          100.12722244922496,
          98.39189390934362,
          98.02625372362046,
          99.14248490033964,
          99.16743693161284,
          99.30126424781636,
          100.03222509942812,
          99.25492991993735,
          98.61056935369582,
          99.32430227483027,
          99.57377164238105,
          100.3542389924315,
          101.27369248268818,
          101.69092197884136,
          102.3255561897401,
          105.02610529821324,
          106.49313388745708,
          106.9771600606609,
          108.65847053642892,
          109.27355180415036,
          110.46986880561644,
          111.3666642517744,
          112.10649041282588,
          112.68229604856624,
          115.53354827504896,
          119.11944669055111,
          119.9568989763578,
          128.40922969708757,
          128.898686177895,
          134.45616967021954,
          145.79384125947973,
          146.6448199949573,
          148.2367594565922,
          150.65238279513622,
          149.51970070741197,
          150.010995528158,
          146.05126710076968,
          145.95559393782253,
          145.10133504443922,
          148.0534336365019,
          146.09781910913213,
          143.71448108108086,
          138.44516337420723,
          136.25236041720763,
          134.142400856302,
          131.1493990328668,
          130.73793405194587,
          132.0849335942191,
          130.14439930302487,
          130.7184401101539,
          130.23517492320812,
          131.3754265135976
         ],
         "yaxis": "y"
        },
        {
         "hovertemplate": "<b>OLS trendline</b><br>y = 0.220087 * x + 102.869<br>R<sup>2</sup>=0.003023<br><br>Maximum Temperature (°C)=%{x}<br>all_agricultural_inputs=%{y} <b>(trend)</b><extra></extra>",
         "legendgroup": "",
         "marker": {
          "color": "#636efa",
          "symbol": "circle"
         },
         "mode": "lines",
         "name": "",
         "showlegend": false,
         "type": "scatter",
         "x": [
          5.84705882352941,
          6.111764705882354,
          6.829411764705885,
          7.0205882352941185,
          7.323529411764706,
          7.429411764705883,
          7.458823529411766,
          7.46470588235294,
          7.620588235294116,
          7.667647058823531,
          7.782352941176471,
          7.80294117647059,
          7.841176470588236,
          7.855882352941177,
          8.097058823529409,
          8.123529411764704,
          8.152941176470588,
          8.179411764705883,
          8.461764705882352,
          8.658823529411764,
          8.667647058823531,
          8.694117647058821,
          8.717647058823529,
          8.844117647058823,
          8.870588235294116,
          9.029411764705882,
          9.03235294117647,
          9.211764705882356,
          9.267647058823528,
          9.476470588235296,
          9.54411764705882,
          9.600000000000001,
          9.641176470588237,
          9.670588235294117,
          9.700000000000001,
          9.782352941176468,
          10.011764705882351,
          10.24411764705882,
          10.47941176470588,
          10.711764705882354,
          10.729411764705883,
          10.823529411764708,
          10.852941176470589,
          11.073529411764708,
          11.108823529411765,
          11.179411764705879,
          11.258823529411764,
          11.438235294117648,
          11.470588235294116,
          11.602941176470589,
          11.605882352941178,
          11.776470588235291,
          11.776470588235293,
          12.338235294117643,
          12.617647058823527,
          12.752941176470587,
          13.055882352941175,
          13.073529411764707,
          13.188235294117645,
          13.297058823529415,
          13.341176470588236,
          13.49705882352941,
          13.791176470588237,
          14.011764705882356,
          14.055882352941174,
          14.061764705882354,
          14.291176470588232,
          14.605882352941174,
          14.75882352941176,
          14.811764705882352,
          14.973529411764709,
          15.029411764705886,
          15.04117647058824,
          15.461764705882354,
          15.655882352941175,
          16.044117647058822,
          16.394117647058827,
          16.45588235294118,
          16.667647058823526,
          16.741176470588236,
          17.008823529411767,
          17.10882352941176,
          17.11470588235294,
          17.349999999999998,
          17.63529411764706,
          17.767647058823528,
          17.78235294117647,
          17.826470588235296,
          17.99705882352941,
          18.01176470588235,
          18.53235294117647,
          18.60882352941176,
          18.65294117647059,
          18.779411764705884,
          18.908823529411762,
          18.91470588235294,
          18.93235294117647,
          18.988235294117647,
          19.014705882352942,
          19.020588235294117,
          19.03823529411764,
          19.208823529411767,
          19.22647058823529,
          19.314705882352943,
          19.379411764705885,
          19.700000000000003,
          19.723529411764705,
          19.794117647058826,
          19.938235294117646,
          19.96470588235294,
          20.09117647058823,
          20.176470588235297,
          20.326470588235296,
          20.561764705882347,
          21.161764705882348,
          21.235294117647058,
          21.28235294117647,
          21.467647058823527,
          21.78235294117647,
          22.158823529411766,
          22.817647058823525
         ],
         "xaxis": "x",
         "y": [
          104.15614816389129,
          104.21440648590078,
          104.37235127001539,
          104.41442672480001,
          104.48110013776642,
          104.50440346657021,
          104.51087661346016,
          104.51217124283814,
          104.54647892135483,
          104.55683595637875,
          104.58208122924952,
          104.58661243207249,
          104.5950275230294,
          104.59826409647438,
          104.65134390097191,
          104.65716973317285,
          104.6636428800628,
          104.66946871226375,
          104.7316109224072,
          104.77498100656982,
          104.77692295063679,
          104.78274878283774,
          104.7879273003497,
          104.81576183197645,
          104.8215876641774,
          104.85654265738309,
          104.85718997207208,
          104.89667616810073,
          104.90897514719163,
          104.95493449011022,
          104.96982272795708,
          104.98212170704798,
          104.9911841126939,
          104.99765725958383,
          105.00413040647378,
          105.02225521776562,
          105.07274576350717,
          105.12388362393772,
          105.17566879905726,
          105.2268066594878,
          105.23069054762178,
          105.25140461766959,
          105.25787776455952,
          105.3064263662341,
          105.31419414250203,
          105.3297296950379,
          105.34720719164073,
          105.3866933876694,
          105.39381384924833,
          105.42294301025306,
          105.42359032494207,
          105.46113457690373,
          105.46113457690373,
          105.58477168250164,
          105.64626657795608,
          105.67604305364982,
          105.74271646661623,
          105.7466003547502,
          105.77184562762098,
          105.79579627111376,
          105.80550599144868,
          105.83981366996537,
          105.9045451388648,
          105.95309374053937,
          105.96280346087428,
          105.96409809025228,
          106.01458863599382,
          106.08385130771622,
          106.11751167154391,
          106.1291633359458,
          106.1647656438405,
          106.17706462293138,
          106.17965388168736,
          106.27221988221355,
          106.31494265168716,
          106.4003881906344,
          106.47741863862473,
          106.49101224709361,
          106.53761890470119,
          106.55380177192605,
          106.61270740862453,
          106.63471610805033,
          106.63601073742832,
          106.68779591254786,
          106.7505854373803,
          106.77971459838504,
          106.78295117183002,
          106.79266089216493,
          106.8302051441266,
          106.83344171757156,
          106.94801641752355,
          106.96484659943741,
          106.97455631977232,
          107.00239085139907,
          107.03087269771481,
          107.03216732709281,
          107.03605121522678,
          107.04835019431766,
          107.0541760265186,
          107.0554706558966,
          107.05935454403057,
          107.09689879599223,
          107.1007826841262,
          107.12020212479602,
          107.1344430479539,
          107.20500034905427,
          107.21017886656622,
          107.22571441910209,
          107.25743283886281,
          107.26325867106375,
          107.2910932026905,
          107.30986532867135,
          107.34287837781005,
          107.39466355292959,
          107.52671574948442,
          107.54289861670928,
          107.55325565173318,
          107.59403647713982,
          107.66329914886221,
          107.74615542905347,
          107.89115391938819
         ],
         "yaxis": "y"
        }
       ],
       "layout": {
        "legend": {
         "tracegroupgap": 0
        },
        "template": {
         "data": {
          "bar": [
           {
            "error_x": {
             "color": "#2a3f5f"
            },
            "error_y": {
             "color": "#2a3f5f"
            },
            "marker": {
             "line": {
              "color": "#E5ECF6",
              "width": 0.5
             },
             "pattern": {
              "fillmode": "overlay",
              "size": 10,
              "solidity": 0.2
             }
            },
            "type": "bar"
           }
          ],
          "barpolar": [
           {
            "marker": {
             "line": {
              "color": "#E5ECF6",
              "width": 0.5
             },
             "pattern": {
              "fillmode": "overlay",
              "size": 10,
              "solidity": 0.2
             }
            },
            "type": "barpolar"
           }
          ],
          "carpet": [
           {
            "aaxis": {
             "endlinecolor": "#2a3f5f",
             "gridcolor": "white",
             "linecolor": "white",
             "minorgridcolor": "white",
             "startlinecolor": "#2a3f5f"
            },
            "baxis": {
             "endlinecolor": "#2a3f5f",
             "gridcolor": "white",
             "linecolor": "white",
             "minorgridcolor": "white",
             "startlinecolor": "#2a3f5f"
            },
            "type": "carpet"
           }
          ],
          "choropleth": [
           {
            "colorbar": {
             "outlinewidth": 0,
             "ticks": ""
            },
            "type": "choropleth"
           }
          ],
          "contour": [
           {
            "colorbar": {
             "outlinewidth": 0,
             "ticks": ""
            },
            "colorscale": [
             [
              0,
              "#0d0887"
             ],
             [
              0.1111111111111111,
              "#46039f"
             ],
             [
              0.2222222222222222,
              "#7201a8"
             ],
             [
              0.3333333333333333,
              "#9c179e"
             ],
             [
              0.4444444444444444,
              "#bd3786"
             ],
             [
              0.5555555555555556,
              "#d8576b"
             ],
             [
              0.6666666666666666,
              "#ed7953"
             ],
             [
              0.7777777777777778,
              "#fb9f3a"
             ],
             [
              0.8888888888888888,
              "#fdca26"
             ],
             [
              1,
              "#f0f921"
             ]
            ],
            "type": "contour"
           }
          ],
          "contourcarpet": [
           {
            "colorbar": {
             "outlinewidth": 0,
             "ticks": ""
            },
            "type": "contourcarpet"
           }
          ],
          "heatmap": [
           {
            "colorbar": {
             "outlinewidth": 0,
             "ticks": ""
            },
            "colorscale": [
             [
              0,
              "#0d0887"
             ],
             [
              0.1111111111111111,
              "#46039f"
             ],
             [
              0.2222222222222222,
              "#7201a8"
             ],
             [
              0.3333333333333333,
              "#9c179e"
             ],
             [
              0.4444444444444444,
              "#bd3786"
             ],
             [
              0.5555555555555556,
              "#d8576b"
             ],
             [
              0.6666666666666666,
              "#ed7953"
             ],
             [
              0.7777777777777778,
              "#fb9f3a"
             ],
             [
              0.8888888888888888,
              "#fdca26"
             ],
             [
              1,
              "#f0f921"
             ]
            ],
            "type": "heatmap"
           }
          ],
          "heatmapgl": [
           {
            "colorbar": {
             "outlinewidth": 0,
             "ticks": ""
            },
            "colorscale": [
             [
              0,
              "#0d0887"
             ],
             [
              0.1111111111111111,
              "#46039f"
             ],
             [
              0.2222222222222222,
              "#7201a8"
             ],
             [
              0.3333333333333333,
              "#9c179e"
             ],
             [
              0.4444444444444444,
              "#bd3786"
             ],
             [
              0.5555555555555556,
              "#d8576b"
             ],
             [
              0.6666666666666666,
              "#ed7953"
             ],
             [
              0.7777777777777778,
              "#fb9f3a"
             ],
             [
              0.8888888888888888,
              "#fdca26"
             ],
             [
              1,
              "#f0f921"
             ]
            ],
            "type": "heatmapgl"
           }
          ],
          "histogram": [
           {
            "marker": {
             "pattern": {
              "fillmode": "overlay",
              "size": 10,
              "solidity": 0.2
             }
            },
            "type": "histogram"
           }
          ],
          "histogram2d": [
           {
            "colorbar": {
             "outlinewidth": 0,
             "ticks": ""
            },
            "colorscale": [
             [
              0,
              "#0d0887"
             ],
             [
              0.1111111111111111,
              "#46039f"
             ],
             [
              0.2222222222222222,
              "#7201a8"
             ],
             [
              0.3333333333333333,
              "#9c179e"
             ],
             [
              0.4444444444444444,
              "#bd3786"
             ],
             [
              0.5555555555555556,
              "#d8576b"
             ],
             [
              0.6666666666666666,
              "#ed7953"
             ],
             [
              0.7777777777777778,
              "#fb9f3a"
             ],
             [
              0.8888888888888888,
              "#fdca26"
             ],
             [
              1,
              "#f0f921"
             ]
            ],
            "type": "histogram2d"
           }
          ],
          "histogram2dcontour": [
           {
            "colorbar": {
             "outlinewidth": 0,
             "ticks": ""
            },
            "colorscale": [
             [
              0,
              "#0d0887"
             ],
             [
              0.1111111111111111,
              "#46039f"
             ],
             [
              0.2222222222222222,
              "#7201a8"
             ],
             [
              0.3333333333333333,
              "#9c179e"
             ],
             [
              0.4444444444444444,
              "#bd3786"
             ],
             [
              0.5555555555555556,
              "#d8576b"
             ],
             [
              0.6666666666666666,
              "#ed7953"
             ],
             [
              0.7777777777777778,
              "#fb9f3a"
             ],
             [
              0.8888888888888888,
              "#fdca26"
             ],
             [
              1,
              "#f0f921"
             ]
            ],
            "type": "histogram2dcontour"
           }
          ],
          "mesh3d": [
           {
            "colorbar": {
             "outlinewidth": 0,
             "ticks": ""
            },
            "type": "mesh3d"
           }
          ],
          "parcoords": [
           {
            "line": {
             "colorbar": {
              "outlinewidth": 0,
              "ticks": ""
             }
            },
            "type": "parcoords"
           }
          ],
          "pie": [
           {
            "automargin": true,
            "type": "pie"
           }
          ],
          "scatter": [
           {
            "fillpattern": {
             "fillmode": "overlay",
             "size": 10,
             "solidity": 0.2
            },
            "type": "scatter"
           }
          ],
          "scatter3d": [
           {
            "line": {
             "colorbar": {
              "outlinewidth": 0,
              "ticks": ""
             }
            },
            "marker": {
             "colorbar": {
              "outlinewidth": 0,
              "ticks": ""
             }
            },
            "type": "scatter3d"
           }
          ],
          "scattercarpet": [
           {
            "marker": {
             "colorbar": {
              "outlinewidth": 0,
              "ticks": ""
             }
            },
            "type": "scattercarpet"
           }
          ],
          "scattergeo": [
           {
            "marker": {
             "colorbar": {
              "outlinewidth": 0,
              "ticks": ""
             }
            },
            "type": "scattergeo"
           }
          ],
          "scattergl": [
           {
            "marker": {
             "colorbar": {
              "outlinewidth": 0,
              "ticks": ""
             }
            },
            "type": "scattergl"
           }
          ],
          "scattermapbox": [
           {
            "marker": {
             "colorbar": {
              "outlinewidth": 0,
              "ticks": ""
             }
            },
            "type": "scattermapbox"
           }
          ],
          "scatterpolar": [
           {
            "marker": {
             "colorbar": {
              "outlinewidth": 0,
              "ticks": ""
             }
            },
            "type": "scatterpolar"
           }
          ],
          "scatterpolargl": [
           {
            "marker": {
             "colorbar": {
              "outlinewidth": 0,
              "ticks": ""
             }
            },
            "type": "scatterpolargl"
           }
          ],
          "scatterternary": [
           {
            "marker": {
             "colorbar": {
              "outlinewidth": 0,
              "ticks": ""
             }
            },
            "type": "scatterternary"
           }
          ],
          "surface": [
           {
            "colorbar": {
             "outlinewidth": 0,
             "ticks": ""
            },
            "colorscale": [
             [
              0,
              "#0d0887"
             ],
             [
              0.1111111111111111,
              "#46039f"
             ],
             [
              0.2222222222222222,
              "#7201a8"
             ],
             [
              0.3333333333333333,
              "#9c179e"
             ],
             [
              0.4444444444444444,
              "#bd3786"
             ],
             [
              0.5555555555555556,
              "#d8576b"
             ],
             [
              0.6666666666666666,
              "#ed7953"
             ],
             [
              0.7777777777777778,
              "#fb9f3a"
             ],
             [
              0.8888888888888888,
              "#fdca26"
             ],
             [
              1,
              "#f0f921"
             ]
            ],
            "type": "surface"
           }
          ],
          "table": [
           {
            "cells": {
             "fill": {
              "color": "#EBF0F8"
             },
             "line": {
              "color": "white"
             }
            },
            "header": {
             "fill": {
              "color": "#C8D4E3"
             },
             "line": {
              "color": "white"
             }
            },
            "type": "table"
           }
          ]
         },
         "layout": {
          "annotationdefaults": {
           "arrowcolor": "#2a3f5f",
           "arrowhead": 0,
           "arrowwidth": 1
          },
          "autotypenumbers": "strict",
          "coloraxis": {
           "colorbar": {
            "outlinewidth": 0,
            "ticks": ""
           }
          },
          "colorscale": {
           "diverging": [
            [
             0,
             "#8e0152"
            ],
            [
             0.1,
             "#c51b7d"
            ],
            [
             0.2,
             "#de77ae"
            ],
            [
             0.3,
             "#f1b6da"
            ],
            [
             0.4,
             "#fde0ef"
            ],
            [
             0.5,
             "#f7f7f7"
            ],
            [
             0.6,
             "#e6f5d0"
            ],
            [
             0.7,
             "#b8e186"
            ],
            [
             0.8,
             "#7fbc41"
            ],
            [
             0.9,
             "#4d9221"
            ],
            [
             1,
             "#276419"
            ]
           ],
           "sequential": [
            [
             0,
             "#0d0887"
            ],
            [
             0.1111111111111111,
             "#46039f"
            ],
            [
             0.2222222222222222,
             "#7201a8"
            ],
            [
             0.3333333333333333,
             "#9c179e"
            ],
            [
             0.4444444444444444,
             "#bd3786"
            ],
            [
             0.5555555555555556,
             "#d8576b"
            ],
            [
             0.6666666666666666,
             "#ed7953"
            ],
            [
             0.7777777777777778,
             "#fb9f3a"
            ],
            [
             0.8888888888888888,
             "#fdca26"
            ],
            [
             1,
             "#f0f921"
            ]
           ],
           "sequentialminus": [
            [
             0,
             "#0d0887"
            ],
            [
             0.1111111111111111,
             "#46039f"
            ],
            [
             0.2222222222222222,
             "#7201a8"
            ],
            [
             0.3333333333333333,
             "#9c179e"
            ],
            [
             0.4444444444444444,
             "#bd3786"
            ],
            [
             0.5555555555555556,
             "#d8576b"
            ],
            [
             0.6666666666666666,
             "#ed7953"
            ],
            [
             0.7777777777777778,
             "#fb9f3a"
            ],
            [
             0.8888888888888888,
             "#fdca26"
            ],
            [
             1,
             "#f0f921"
            ]
           ]
          },
          "colorway": [
           "#636efa",
           "#EF553B",
           "#00cc96",
           "#ab63fa",
           "#FFA15A",
           "#19d3f3",
           "#FF6692",
           "#B6E880",
           "#FF97FF",
           "#FECB52"
          ],
          "font": {
           "color": "#2a3f5f"
          },
          "geo": {
           "bgcolor": "white",
           "lakecolor": "white",
           "landcolor": "#E5ECF6",
           "showlakes": true,
           "showland": true,
           "subunitcolor": "white"
          },
          "hoverlabel": {
           "align": "left"
          },
          "hovermode": "closest",
          "mapbox": {
           "style": "light"
          },
          "paper_bgcolor": "white",
          "plot_bgcolor": "#E5ECF6",
          "polar": {
           "angularaxis": {
            "gridcolor": "white",
            "linecolor": "white",
            "ticks": ""
           },
           "bgcolor": "#E5ECF6",
           "radialaxis": {
            "gridcolor": "white",
            "linecolor": "white",
            "ticks": ""
           }
          },
          "scene": {
           "xaxis": {
            "backgroundcolor": "#E5ECF6",
            "gridcolor": "white",
            "gridwidth": 2,
            "linecolor": "white",
            "showbackground": true,
            "ticks": "",
            "zerolinecolor": "white"
           },
           "yaxis": {
            "backgroundcolor": "#E5ECF6",
            "gridcolor": "white",
            "gridwidth": 2,
            "linecolor": "white",
            "showbackground": true,
            "ticks": "",
            "zerolinecolor": "white"
           },
           "zaxis": {
            "backgroundcolor": "#E5ECF6",
            "gridcolor": "white",
            "gridwidth": 2,
            "linecolor": "white",
            "showbackground": true,
            "ticks": "",
            "zerolinecolor": "white"
           }
          },
          "shapedefaults": {
           "line": {
            "color": "#2a3f5f"
           }
          },
          "ternary": {
           "aaxis": {
            "gridcolor": "white",
            "linecolor": "white",
            "ticks": ""
           },
           "baxis": {
            "gridcolor": "white",
            "linecolor": "white",
            "ticks": ""
           },
           "bgcolor": "#E5ECF6",
           "caxis": {
            "gridcolor": "white",
            "linecolor": "white",
            "ticks": ""
           }
          },
          "title": {
           "x": 0.05
          },
          "xaxis": {
           "automargin": true,
           "gridcolor": "white",
           "linecolor": "white",
           "ticks": "",
           "title": {
            "standoff": 15
           },
           "zerolinecolor": "white",
           "zerolinewidth": 2
          },
          "yaxis": {
           "automargin": true,
           "gridcolor": "white",
           "linecolor": "white",
           "ticks": "",
           "title": {
            "standoff": 15
           },
           "zerolinecolor": "white",
           "zerolinewidth": 2
          }
         }
        },
        "title": {
         "text": "all_agricultural_inputs vs Maximum Temperature"
        },
        "xaxis": {
         "anchor": "y",
         "domain": [
          0,
          1
         ],
         "title": {
          "text": "Maximum Temperature (°C)"
         }
        },
        "yaxis": {
         "anchor": "x",
         "domain": [
          0,
          1
         ],
         "title": {
          "text": "all_agricultural_inputs"
         }
        }
       }
      }
     },
     "metadata": {},
     "output_type": "display_data"
    }
   ],
   "source": [
    "y_cat = 'all_agricultural_inputs'\n",
    "\n",
    "y=df_agri_pi[df_agri_pi['category']==y_cat].set_index('date')['index'].sort_index()\n",
    "x=df_stations['tmax(degC)'].sort_index()[:-2]\n",
    "\n",
    "px.scatter(\n",
    "    x=x, y=y, \n",
    "    title=f'{y_cat} vs Maximum Temperature', \n",
    "    labels={'x':'Maximum Temperature (°C)', 'y':y_cat},\n",
    "    trendline='ols'\n",
    "    )"
   ]
  },
  {
   "cell_type": "markdown",
   "metadata": {},
   "source": [
    "### **Using Polynomial Regression**"
   ]
  },
  {
   "cell_type": "code",
   "execution_count": 623,
   "metadata": {},
   "outputs": [
    {
     "data": {
      "image/png": "[encoded data removed]",
      "text/plain": [
       "<Figure size 640x480 with 1 Axes>"
      ]
     },
     "metadata": {},
     "output_type": "display_data"
    }
   ],
   "source": [
    "from sklearn.preprocessing import PolynomialFeatures\n",
    "from sklearn.linear_model import LinearRegression\n",
    "\n",
    "y_cat = 'all_agricultural_outputs'\n",
    "temperature = df_stations['tmax(degC)'].sort_index()[:-2]\n",
    "inputs = df_agri_pi[df_agri_pi['category']==y_cat].set_index('date')['index'].sort_index()\n",
    "\n",
    "# Fit a polynomial regression model\n",
    "poly_features = PolynomialFeatures(degree=2)\n",
    "X_poly = poly_features.fit_transform(np.array(temperature).reshape(-1, 1))\n",
    "\n",
    "model = LinearRegression()\n",
    "model.fit(X_poly, inputs)\n",
    "y_poly_pred = model.predict(X_poly)\n",
    "\n",
    "# Plot the results\n",
    "plt.scatter(temperature, inputs, color='blue')\n",
    "plt.plot(temperature, y_poly_pred, color='red')\n",
    "plt.title(f'{y_cat} vs Maximum Temperature')\n",
    "plt.xlabel('Maximum Temperature (°C)')\n",
    "plt.ylabel(y_cat)\n",
    "plt.show()\n"
   ]
  },
  {
   "cell_type": "code",
   "execution_count": null,
   "metadata": {},
   "outputs": [],
   "source": []
  }
 ],
 "metadata": {
  "kernelspec": {
   "display_name": "Python 3",
   "language": "python",
   "name": "python3"
  },
  "language_info": {
   "codemirror_mode": {
    "name": "ipython",
    "version": 3
   },
   "file_extension": ".py",
   "mimetype": "text/x-python",
   "name": "python",
   "nbconvert_exporter": "python",
   "pygments_lexer": "ipython3",
   "version": "3.9.12"
  }
 },
 "nbformat": 4,
 "nbformat_minor": 2
}
